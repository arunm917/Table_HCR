{
  "nbformat": 4,
  "nbformat_minor": 0,
  "metadata": {
    "colab": {
      "provenance": [],
      "gpuType": "T4",
      "authorship_tag": "ABX9TyOPpQztwcrtDSYY2UjkGnnr",
      "include_colab_link": true
    },
    "kernelspec": {
      "name": "python3",
      "display_name": "Python 3"
    },
    "language_info": {
      "name": "python"
    },
    "accelerator": "GPU"
  },
  "cells": [
    {
      "cell_type": "markdown",
      "metadata": {
        "id": "view-in-github",
        "colab_type": "text"
      },
      "source": [
        "<a href=\"https://colab.research.google.com/github/arunm917/Table_HCR/blob/main/OCR_module.ipynb\" target=\"_parent\"><img src=\"https://colab.research.google.com/assets/colab-badge.svg\" alt=\"Open In Colab\"/></a>"
      ]
    },
    {
      "cell_type": "markdown",
      "source": [
        "## Paddle ocr on images"
      ],
      "metadata": {
        "id": "CcWV2EpUheXK"
      }
    },
    {
      "cell_type": "code",
      "execution_count": null,
      "metadata": {
        "colab": {
          "base_uri": "https://localhost:8080/"
        },
        "id": "UnFgN3mWhaCM",
        "outputId": "d2e70644-1e1f-4d75-d488-258feca5592c"
      },
      "outputs": [
        {
          "output_type": "stream",
          "name": "stdout",
          "text": [
            "Collecting paddlepaddle-gpu\n",
            "  Downloading paddlepaddle_gpu-2.6.1-cp310-cp310-manylinux1_x86_64.whl.metadata (8.6 kB)\n",
            "Collecting httpx (from paddlepaddle-gpu)\n",
            "  Downloading httpx-0.27.2-py3-none-any.whl.metadata (7.1 kB)\n",
            "Requirement already satisfied: numpy>=1.13 in /usr/local/lib/python3.10/dist-packages (from paddlepaddle-gpu) (1.26.4)\n",
            "Requirement already satisfied: Pillow in /usr/local/lib/python3.10/dist-packages (from paddlepaddle-gpu) (9.4.0)\n",
            "Requirement already satisfied: decorator in /usr/local/lib/python3.10/dist-packages (from paddlepaddle-gpu) (4.4.2)\n",
            "Collecting astor (from paddlepaddle-gpu)\n",
            "  Downloading astor-0.8.1-py2.py3-none-any.whl.metadata (4.2 kB)\n",
            "Requirement already satisfied: opt-einsum==3.3.0 in /usr/local/lib/python3.10/dist-packages (from paddlepaddle-gpu) (3.3.0)\n",
            "Requirement already satisfied: protobuf>=3.20.2 in /usr/local/lib/python3.10/dist-packages (from paddlepaddle-gpu) (3.20.3)\n",
            "Requirement already satisfied: anyio in /usr/local/lib/python3.10/dist-packages (from httpx->paddlepaddle-gpu) (3.7.1)\n",
            "Requirement already satisfied: certifi in /usr/local/lib/python3.10/dist-packages (from httpx->paddlepaddle-gpu) (2024.8.30)\n",
            "Collecting httpcore==1.* (from httpx->paddlepaddle-gpu)\n",
            "  Downloading httpcore-1.0.5-py3-none-any.whl.metadata (20 kB)\n",
            "Requirement already satisfied: idna in /usr/local/lib/python3.10/dist-packages (from httpx->paddlepaddle-gpu) (3.8)\n",
            "Requirement already satisfied: sniffio in /usr/local/lib/python3.10/dist-packages (from httpx->paddlepaddle-gpu) (1.3.1)\n",
            "Collecting h11<0.15,>=0.13 (from httpcore==1.*->httpx->paddlepaddle-gpu)\n",
            "  Downloading h11-0.14.0-py3-none-any.whl.metadata (8.2 kB)\n",
            "Requirement already satisfied: exceptiongroup in /usr/local/lib/python3.10/dist-packages (from anyio->httpx->paddlepaddle-gpu) (1.2.2)\n",
            "Downloading paddlepaddle_gpu-2.6.1-cp310-cp310-manylinux1_x86_64.whl (758.9 MB)\n",
            "\u001b[2K   \u001b[90m━━━━━━━━━━━━━━━━━━━━━━━━━━━━━━━━━━━━━━━━\u001b[0m \u001b[32m758.9/758.9 MB\u001b[0m \u001b[31m2.3 MB/s\u001b[0m eta \u001b[36m0:00:00\u001b[0m\n",
            "\u001b[?25hDownloading astor-0.8.1-py2.py3-none-any.whl (27 kB)\n",
            "Downloading httpx-0.27.2-py3-none-any.whl (76 kB)\n",
            "\u001b[2K   \u001b[90m━━━━━━━━━━━━━━━━━━━━━━━━━━━━━━━━━━━━━━━━\u001b[0m \u001b[32m76.4/76.4 kB\u001b[0m \u001b[31m5.7 MB/s\u001b[0m eta \u001b[36m0:00:00\u001b[0m\n",
            "\u001b[?25hDownloading httpcore-1.0.5-py3-none-any.whl (77 kB)\n",
            "\u001b[2K   \u001b[90m━━━━━━━━━━━━━━━━━━━━━━━━━━━━━━━━━━━━━━━━\u001b[0m \u001b[32m77.9/77.9 kB\u001b[0m \u001b[31m5.4 MB/s\u001b[0m eta \u001b[36m0:00:00\u001b[0m\n",
            "\u001b[?25hDownloading h11-0.14.0-py3-none-any.whl (58 kB)\n",
            "\u001b[2K   \u001b[90m━━━━━━━━━━━━━━━━━━━━━━━━━━━━━━━━━━━━━━━━\u001b[0m \u001b[32m58.3/58.3 kB\u001b[0m \u001b[31m3.6 MB/s\u001b[0m eta \u001b[36m0:00:00\u001b[0m\n",
            "\u001b[?25hInstalling collected packages: h11, astor, httpcore, httpx, paddlepaddle-gpu\n",
            "Successfully installed astor-0.8.1 h11-0.14.0 httpcore-1.0.5 httpx-0.27.2 paddlepaddle-gpu-2.6.1\n"
          ]
        }
      ],
      "source": [
        "!pip install paddlepaddle-gpu"
      ]
    },
    {
      "cell_type": "code",
      "source": [
        "!pip install \"paddleocr>=2.0.1\""
      ],
      "metadata": {
        "colab": {
          "base_uri": "https://localhost:8080/"
        },
        "id": "Snn4OjQ9p-zb",
        "outputId": "40548f50-076e-4342-8251-35bb1b44604c"
      },
      "execution_count": null,
      "outputs": [
        {
          "output_type": "stream",
          "name": "stdout",
          "text": [
            "Collecting paddleocr>=2.0.1\n",
            "  Downloading paddleocr-2.8.1-py3-none-any.whl.metadata (19 kB)\n",
            "Requirement already satisfied: shapely in /usr/local/lib/python3.10/dist-packages (from paddleocr>=2.0.1) (2.0.6)\n",
            "Requirement already satisfied: scikit-image in /usr/local/lib/python3.10/dist-packages (from paddleocr>=2.0.1) (0.23.2)\n",
            "Requirement already satisfied: imgaug in /usr/local/lib/python3.10/dist-packages (from paddleocr>=2.0.1) (0.4.0)\n",
            "Collecting pyclipper (from paddleocr>=2.0.1)\n",
            "  Downloading pyclipper-1.3.0.post5-cp310-cp310-manylinux_2_12_x86_64.manylinux2010_x86_64.whl.metadata (9.0 kB)\n",
            "Collecting lmdb (from paddleocr>=2.0.1)\n",
            "  Downloading lmdb-1.5.1-cp310-cp310-manylinux_2_17_x86_64.manylinux2014_x86_64.whl.metadata (1.1 kB)\n",
            "Requirement already satisfied: tqdm in /usr/local/lib/python3.10/dist-packages (from paddleocr>=2.0.1) (4.66.5)\n",
            "Requirement already satisfied: numpy<2.0 in /usr/local/lib/python3.10/dist-packages (from paddleocr>=2.0.1) (1.26.4)\n",
            "Collecting rapidfuzz (from paddleocr>=2.0.1)\n",
            "  Downloading rapidfuzz-3.9.7-cp310-cp310-manylinux_2_17_x86_64.manylinux2014_x86_64.whl.metadata (12 kB)\n",
            "Requirement already satisfied: opencv-python in /usr/local/lib/python3.10/dist-packages (from paddleocr>=2.0.1) (4.10.0.84)\n",
            "Requirement already satisfied: opencv-contrib-python in /usr/local/lib/python3.10/dist-packages (from paddleocr>=2.0.1) (4.10.0.84)\n",
            "Requirement already satisfied: cython in /usr/local/lib/python3.10/dist-packages (from paddleocr>=2.0.1) (3.0.11)\n",
            "Requirement already satisfied: Pillow in /usr/local/lib/python3.10/dist-packages (from paddleocr>=2.0.1) (9.4.0)\n",
            "Requirement already satisfied: pyyaml in /usr/local/lib/python3.10/dist-packages (from paddleocr>=2.0.1) (6.0.2)\n",
            "Collecting python-docx (from paddleocr>=2.0.1)\n",
            "  Downloading python_docx-1.1.2-py3-none-any.whl.metadata (2.0 kB)\n",
            "Requirement already satisfied: beautifulsoup4 in /usr/local/lib/python3.10/dist-packages (from paddleocr>=2.0.1) (4.12.3)\n",
            "Requirement already satisfied: fonttools>=4.24.0 in /usr/local/lib/python3.10/dist-packages (from paddleocr>=2.0.1) (4.53.1)\n",
            "Collecting fire>=0.3.0 (from paddleocr>=2.0.1)\n",
            "  Downloading fire-0.6.0.tar.gz (88 kB)\n",
            "\u001b[2K     \u001b[90m━━━━━━━━━━━━━━━━━━━━━━━━━━━━━━━━━━━━━━━━\u001b[0m \u001b[32m88.4/88.4 kB\u001b[0m \u001b[31m1.5 MB/s\u001b[0m eta \u001b[36m0:00:00\u001b[0m\n",
            "\u001b[?25h  Preparing metadata (setup.py) ... \u001b[?25l\u001b[?25hdone\n",
            "Requirement already satisfied: requests in /usr/local/lib/python3.10/dist-packages (from paddleocr>=2.0.1) (2.32.3)\n",
            "Requirement already satisfied: six in /usr/local/lib/python3.10/dist-packages (from fire>=0.3.0->paddleocr>=2.0.1) (1.16.0)\n",
            "Requirement already satisfied: termcolor in /usr/local/lib/python3.10/dist-packages (from fire>=0.3.0->paddleocr>=2.0.1) (2.4.0)\n",
            "Requirement already satisfied: soupsieve>1.2 in /usr/local/lib/python3.10/dist-packages (from beautifulsoup4->paddleocr>=2.0.1) (2.6)\n",
            "Requirement already satisfied: scipy in /usr/local/lib/python3.10/dist-packages (from imgaug->paddleocr>=2.0.1) (1.13.1)\n",
            "Requirement already satisfied: matplotlib in /usr/local/lib/python3.10/dist-packages (from imgaug->paddleocr>=2.0.1) (3.7.1)\n",
            "Requirement already satisfied: imageio in /usr/local/lib/python3.10/dist-packages (from imgaug->paddleocr>=2.0.1) (2.34.2)\n",
            "Requirement already satisfied: networkx>=2.8 in /usr/local/lib/python3.10/dist-packages (from scikit-image->paddleocr>=2.0.1) (3.3)\n",
            "Requirement already satisfied: tifffile>=2022.8.12 in /usr/local/lib/python3.10/dist-packages (from scikit-image->paddleocr>=2.0.1) (2024.8.28)\n",
            "Requirement already satisfied: packaging>=21 in /usr/local/lib/python3.10/dist-packages (from scikit-image->paddleocr>=2.0.1) (24.1)\n",
            "Requirement already satisfied: lazy-loader>=0.4 in /usr/local/lib/python3.10/dist-packages (from scikit-image->paddleocr>=2.0.1) (0.4)\n",
            "Requirement already satisfied: lxml>=3.1.0 in /usr/local/lib/python3.10/dist-packages (from python-docx->paddleocr>=2.0.1) (4.9.4)\n",
            "Requirement already satisfied: typing-extensions>=4.9.0 in /usr/local/lib/python3.10/dist-packages (from python-docx->paddleocr>=2.0.1) (4.12.2)\n",
            "Requirement already satisfied: charset-normalizer<4,>=2 in /usr/local/lib/python3.10/dist-packages (from requests->paddleocr>=2.0.1) (3.3.2)\n",
            "Requirement already satisfied: idna<4,>=2.5 in /usr/local/lib/python3.10/dist-packages (from requests->paddleocr>=2.0.1) (3.8)\n",
            "Requirement already satisfied: urllib3<3,>=1.21.1 in /usr/local/lib/python3.10/dist-packages (from requests->paddleocr>=2.0.1) (2.0.7)\n",
            "Requirement already satisfied: certifi>=2017.4.17 in /usr/local/lib/python3.10/dist-packages (from requests->paddleocr>=2.0.1) (2024.8.30)\n",
            "Requirement already satisfied: contourpy>=1.0.1 in /usr/local/lib/python3.10/dist-packages (from matplotlib->imgaug->paddleocr>=2.0.1) (1.3.0)\n",
            "Requirement already satisfied: cycler>=0.10 in /usr/local/lib/python3.10/dist-packages (from matplotlib->imgaug->paddleocr>=2.0.1) (0.12.1)\n",
            "Requirement already satisfied: kiwisolver>=1.0.1 in /usr/local/lib/python3.10/dist-packages (from matplotlib->imgaug->paddleocr>=2.0.1) (1.4.5)\n",
            "Requirement already satisfied: pyparsing>=2.3.1 in /usr/local/lib/python3.10/dist-packages (from matplotlib->imgaug->paddleocr>=2.0.1) (3.1.4)\n",
            "Requirement already satisfied: python-dateutil>=2.7 in /usr/local/lib/python3.10/dist-packages (from matplotlib->imgaug->paddleocr>=2.0.1) (2.8.2)\n",
            "Downloading paddleocr-2.8.1-py3-none-any.whl (407 kB)\n",
            "\u001b[2K   \u001b[90m━━━━━━━━━━━━━━━━━━━━━━━━━━━━━━━━━━━━━━━━\u001b[0m \u001b[32m407.5/407.5 kB\u001b[0m \u001b[31m5.2 MB/s\u001b[0m eta \u001b[36m0:00:00\u001b[0m\n",
            "\u001b[?25hDownloading lmdb-1.5.1-cp310-cp310-manylinux_2_17_x86_64.manylinux2014_x86_64.whl (294 kB)\n",
            "\u001b[2K   \u001b[90m━━━━━━━━━━━━━━━━━━━━━━━━━━━━━━━━━━━━━━━━\u001b[0m \u001b[32m294.9/294.9 kB\u001b[0m \u001b[31m17.3 MB/s\u001b[0m eta \u001b[36m0:00:00\u001b[0m\n",
            "\u001b[?25hDownloading pyclipper-1.3.0.post5-cp310-cp310-manylinux_2_12_x86_64.manylinux2010_x86_64.whl (908 kB)\n",
            "\u001b[2K   \u001b[90m━━━━━━━━━━━━━━━━━━━━━━━━━━━━━━━━━━━━━━━━\u001b[0m \u001b[32m908.3/908.3 kB\u001b[0m \u001b[31m17.7 MB/s\u001b[0m eta \u001b[36m0:00:00\u001b[0m\n",
            "\u001b[?25hDownloading python_docx-1.1.2-py3-none-any.whl (244 kB)\n",
            "\u001b[2K   \u001b[90m━━━━━━━━━━━━━━━━━━━━━━━━━━━━━━━━━━━━━━━━\u001b[0m \u001b[32m244.3/244.3 kB\u001b[0m \u001b[31m16.2 MB/s\u001b[0m eta \u001b[36m0:00:00\u001b[0m\n",
            "\u001b[?25hDownloading rapidfuzz-3.9.7-cp310-cp310-manylinux_2_17_x86_64.manylinux2014_x86_64.whl (3.4 MB)\n",
            "\u001b[2K   \u001b[90m━━━━━━━━━━━━━━━━━━━━━━━━━━━━━━━━━━━━━━━━\u001b[0m \u001b[32m3.4/3.4 MB\u001b[0m \u001b[31m36.3 MB/s\u001b[0m eta \u001b[36m0:00:00\u001b[0m\n",
            "\u001b[?25hBuilding wheels for collected packages: fire\n",
            "  Building wheel for fire (setup.py) ... \u001b[?25l\u001b[?25hdone\n",
            "  Created wheel for fire: filename=fire-0.6.0-py2.py3-none-any.whl size=117030 sha256=3e9dc9b76a0064fd3934fc178dcd10bbe92a038989ad5948edd624cc890cbfaf\n",
            "  Stored in directory: /root/.cache/pip/wheels/d6/6d/5d/5b73fa0f46d01a793713f8859201361e9e581ced8c75e5c6a3\n",
            "Successfully built fire\n",
            "Installing collected packages: pyclipper, lmdb, rapidfuzz, python-docx, fire, paddleocr\n",
            "Successfully installed fire-0.6.0 lmdb-1.5.1 paddleocr-2.8.1 pyclipper-1.3.0.post5 python-docx-1.1.2 rapidfuzz-3.9.7\n"
          ]
        }
      ]
    },
    {
      "cell_type": "code",
      "source": [
        "from paddleocr import PaddleOCR, draw_ocr"
      ],
      "metadata": {
        "id": "dbHJLBj2qPNp"
      },
      "execution_count": null,
      "outputs": []
    },
    {
      "cell_type": "code",
      "source": [
        "ocr = PaddleOCR(use_angle_cls=True, lang='en') # need to run only once to download and load model into memory\n"
      ],
      "metadata": {
        "colab": {
          "base_uri": "https://localhost:8080/"
        },
        "id": "MMeyVViLquCM",
        "outputId": "8f7eee94-e7b2-41aa-af95-4fba0ccc7fbb"
      },
      "execution_count": null,
      "outputs": [
        {
          "output_type": "stream",
          "name": "stdout",
          "text": [
            "download https://paddleocr.bj.bcebos.com/PP-OCRv3/english/en_PP-OCRv3_det_infer.tar to /root/.paddleocr/whl/det/en/en_PP-OCRv3_det_infer/en_PP-OCRv3_det_infer.tar\n"
          ]
        },
        {
          "output_type": "stream",
          "name": "stderr",
          "text": [
            "100%|██████████| 4.00M/4.00M [00:16<00:00, 248kiB/s] \n"
          ]
        },
        {
          "output_type": "stream",
          "name": "stdout",
          "text": [
            "download https://paddleocr.bj.bcebos.com/PP-OCRv4/english/en_PP-OCRv4_rec_infer.tar to /root/.paddleocr/whl/rec/en/en_PP-OCRv4_rec_infer/en_PP-OCRv4_rec_infer.tar\n"
          ]
        },
        {
          "output_type": "stream",
          "name": "stderr",
          "text": [
            "100%|██████████| 10.2M/10.2M [00:17<00:00, 597kiB/s] \n"
          ]
        },
        {
          "output_type": "stream",
          "name": "stdout",
          "text": [
            "download https://paddleocr.bj.bcebos.com/dygraph_v2.0/ch/ch_ppocr_mobile_v2.0_cls_infer.tar to /root/.paddleocr/whl/cls/ch_ppocr_mobile_v2.0_cls_infer/ch_ppocr_mobile_v2.0_cls_infer.tar\n"
          ]
        },
        {
          "output_type": "stream",
          "name": "stderr",
          "text": [
            "100%|██████████| 2.19M/2.19M [00:15<00:00, 144kiB/s]"
          ]
        },
        {
          "output_type": "stream",
          "name": "stdout",
          "text": [
            "[2024/09/09 07:26:12] ppocr DEBUG: Namespace(help='==SUPPRESS==', use_gpu=False, use_xpu=False, use_npu=False, use_mlu=False, ir_optim=True, use_tensorrt=False, min_subgraph_size=15, precision='fp32', gpu_mem=500, gpu_id=0, image_dir=None, page_num=0, det_algorithm='DB', det_model_dir='/root/.paddleocr/whl/det/en/en_PP-OCRv3_det_infer', det_limit_side_len=960, det_limit_type='max', det_box_type='quad', det_db_thresh=0.3, det_db_box_thresh=0.6, det_db_unclip_ratio=1.5, max_batch_size=10, use_dilation=False, det_db_score_mode='fast', det_east_score_thresh=0.8, det_east_cover_thresh=0.1, det_east_nms_thresh=0.2, det_sast_score_thresh=0.5, det_sast_nms_thresh=0.2, det_pse_thresh=0, det_pse_box_thresh=0.85, det_pse_min_area=16, det_pse_scale=1, scales=[8, 16, 32], alpha=1.0, beta=1.0, fourier_degree=5, rec_algorithm='SVTR_LCNet', rec_model_dir='/root/.paddleocr/whl/rec/en/en_PP-OCRv4_rec_infer', rec_image_inverse=True, rec_image_shape='3, 48, 320', rec_batch_num=6, max_text_length=25, rec_char_dict_path='/usr/local/lib/python3.10/dist-packages/paddleocr/ppocr/utils/en_dict.txt', use_space_char=True, vis_font_path='./doc/fonts/simfang.ttf', drop_score=0.5, e2e_algorithm='PGNet', e2e_model_dir=None, e2e_limit_side_len=768, e2e_limit_type='max', e2e_pgnet_score_thresh=0.5, e2e_char_dict_path='./ppocr/utils/ic15_dict.txt', e2e_pgnet_valid_set='totaltext', e2e_pgnet_mode='fast', use_angle_cls=True, cls_model_dir='/root/.paddleocr/whl/cls/ch_ppocr_mobile_v2.0_cls_infer', cls_image_shape='3, 48, 192', label_list=['0', '180'], cls_batch_num=6, cls_thresh=0.9, enable_mkldnn=False, cpu_threads=10, use_pdserving=False, warmup=False, sr_model_dir=None, sr_image_shape='3, 32, 128', sr_batch_num=1, draw_img_save_dir='./inference_results', save_crop_res=False, crop_res_save_dir='./output', use_mp=False, total_process_num=1, process_id=0, benchmark=False, save_log_path='./log_output/', show_log=True, use_onnx=False, return_word_box=False, output='./output', table_max_len=488, table_algorithm='TableAttn', table_model_dir=None, merge_no_span_structure=True, table_char_dict_path=None, layout_model_dir=None, layout_dict_path=None, layout_score_threshold=0.5, layout_nms_threshold=0.5, kie_algorithm='LayoutXLM', ser_model_dir=None, re_model_dir=None, use_visual_backbone=True, ser_dict_path='../train_data/XFUND/class_list_xfun.txt', ocr_order_method=None, mode='structure', image_orientation=False, layout=True, table=True, ocr=True, recovery=False, use_pdf2docx_api=False, invert=False, binarize=False, alphacolor=(255, 255, 255), lang='en', det=True, rec=True, type='ocr', savefile=False, ocr_version='PP-OCRv4', structure_version='PP-StructureV2')\n"
          ]
        },
        {
          "output_type": "stream",
          "name": "stderr",
          "text": [
            "\n"
          ]
        }
      ]
    },
    {
      "cell_type": "code",
      "source": [
        "import cv2\n",
        "from google.colab.patches import cv2_imshow"
      ],
      "metadata": {
        "id": "6igFyAQUrD3p"
      },
      "execution_count": null,
      "outputs": []
    },
    {
      "cell_type": "code",
      "source": [
        "img_path = '/content/img_49.jpg'\n",
        "img = cv2.imread(img_path, cv2.IMREAD_UNCHANGED)\n",
        "cv2_imshow(img)"
      ],
      "metadata": {
        "colab": {
          "base_uri": "https://localhost:8080/",
          "height": 93
        },
        "id": "94UrHvmermqc",
        "outputId": "7461227e-bca5-4e87-d259-bedebc1dab82"
      },
      "execution_count": null,
      "outputs": [
        {
          "output_type": "display_data",
          "data": {
            "text/plain": [
              "<PIL.Image.Image image mode=L size=423x76>"
            ],
            "image/png": "[encoded data removed]"
          },
          "metadata": {}
        }
      ]
    },
    {
      "cell_type": "code",
      "source": [
        "%timeit\n",
        "result = ocr.ocr(img_path, cls=True)\n",
        "for line in result:\n",
        "    print(line)"
      ],
      "metadata": {
        "colab": {
          "base_uri": "https://localhost:8080/"
        },
        "id": "UeGEWNH0tWIP",
        "outputId": "571cd977-1a03-45cd-a028-4b547480c6ed"
      },
      "execution_count": null,
      "outputs": [
        {
          "output_type": "stream",
          "name": "stdout",
          "text": [
            "[2024/09/09 09:40:55] ppocr DEBUG: dt_boxes num : 2, elapsed : 0.04922628402709961\n",
            "[2024/09/09 09:40:55] ppocr DEBUG: cls num  : 2, elapsed : 0.022864580154418945\n",
            "[2024/09/09 09:40:55] ppocr DEBUG: rec_res num  : 2, elapsed : 0.17216825485229492\n",
            "[[[[175.0, 11.0], [394.0, 18.0], [393.0, 68.0], [174.0, 61.0]], ('X H^aO', 0.5390855669975281)]]\n"
          ]
        }
      ]
    },
    {
      "cell_type": "code",
      "source": [
        "# Print each item in the result list line by line\n",
        "for item in result:\n",
        "  for i in range(len(item)):\n",
        "    # i = 0\n",
        "    # j = i1\n",
        "    coordinates = item[i][0]\n",
        "    text, score = item[i][1]\n",
        "    print(f\"Coordinates: {coordinates}\")\n",
        "    print(f\"Text: {text}\")\n",
        "    print(f\"Score: {score}\\n\")\n",
        "    # i += 1\n",
        "    # j += 1"
      ],
      "metadata": {
        "colab": {
          "base_uri": "https://localhost:8080/"
        },
        "id": "U6AEDIcxyQS5",
        "outputId": "9051f58d-45c4-4d1e-f70f-c08f726b5120"
      },
      "execution_count": null,
      "outputs": [
        {
          "output_type": "stream",
          "name": "stdout",
          "text": [
            "Coordinates: [[305.0, 286.0], [601.0, 283.0], [601.0, 332.0], [306.0, 336.0]]\n",
            "Text: PLANNING SLNO\n",
            "Score: 0.9948447346687317\n",
            "\n",
            "Coordinates: [[1612.0, 286.0], [1746.0, 286.0], [1746.0, 336.0], [1612.0, 336.0]]\n",
            "Text: GRADE\n",
            "Score: 0.6986199617385864\n",
            "\n",
            "Coordinates: [[1800.0, 283.0], [1891.0, 283.0], [1891.0, 336.0], [1800.0, 336.0]]\n",
            "Text: THK\n",
            "Score: 0.990877628326416\n",
            "\n",
            "Coordinates: [[2018.0, 286.0], [2347.0, 286.0], [2347.0, 332.0], [2018.0, 332.0]]\n",
            "Text: SHEET DIMENSION\n",
            "Score: 0.9693458676338196\n",
            "\n",
            "Coordinates: [[2536.0, 283.0], [2653.0, 283.0], [2653.0, 332.0], [2536.0, 332.0]]\n",
            "Text:  START\n",
            "Score: 0.9437775611877441\n",
            "\n",
            "Coordinates: [[2838.0, 279.0], [2925.0, 279.0], [2925.0, 332.0], [2838.0, 332.0]]\n",
            "Text: END\n",
            "Score: 0.9981291890144348\n",
            "\n",
            "Coordinates: [[890.0, 293.0], [1115.0, 293.0], [1115.0, 332.0], [890.0, 332.0]]\n",
            "Text: PO NUMBER\n",
            "Score: 0.9963900446891785\n",
            "\n",
            "Coordinates: [[1370.0, 290.0], [1565.0, 290.0], [1565.0, 329.0], [1370.0, 329.0]]\n",
            "Text: PROGRAM\n",
            "Score: 0.9901762008666992\n",
            "\n",
            "Coordinates: [[1400.0, 339.0], [1528.0, 339.0], [1528.0, 389.0], [1400.0, 389.0]]\n",
            "Text: NAME\n",
            "Score: 0.7447936534881592\n",
            "\n",
            "Coordinates: [[1336.0, 424.0], [1527.0, 420.0], [1529.0, 484.0], [1337.0, 488.0]]\n",
            "Text: iN E o1\n",
            "Score: 0.5722727179527283\n",
            "\n",
            "Coordinates: [[1609.0, 424.0], [1726.0, 424.0], [1726.0, 488.0], [1609.0, 488.0]]\n",
            "Text: HR\n",
            "Score: 0.8015692234039307\n",
            "\n",
            "Coordinates: [[1777.0, 428.0], [1894.0, 428.0], [1894.0, 491.0], [1777.0, 491.0]]\n",
            "Text: 20\n",
            "Score: 0.9943041801452637\n",
            "\n",
            "Coordinates: [[2468.0, 424.0], [2700.0, 424.0], [2700.0, 484.0], [2468.0, 484.0]]\n",
            "Text: 12: 30\n",
            "Score: 0.9187828898429871\n",
            "\n",
            "Coordinates: [[2767.0, 421.0], [2982.0, 421.0], [2982.0, 481.0], [2767.0, 481.0]]\n",
            "Text: 01 : 50\n",
            "Score: 0.9007154703140259\n",
            "\n",
            "Coordinates: [[711.0, 442.0], [1282.0, 424.0], [1283.0, 484.0], [713.0, 503.0]]\n",
            "Text: 45157161202\n",
            "Score: 0.996971845626831\n",
            "\n",
            "Coordinates: [[1965.0, 435.0], [2381.0, 435.0], [2381.0, 484.0], [1965.0, 484.0]]\n",
            "Text: 3ooo x 15oO\n",
            "Score: 0.8178415894508362\n",
            "\n",
            "Coordinates: [[251.0, 450.0], [595.0, 426.0], [599.0, 487.0], [254.0, 510.0]]\n",
            "Text: AIPl1128\n",
            "Score: 0.865588903427124\n",
            "\n",
            "Coordinates: [[1599.0, 520.0], [1696.0, 520.0], [1696.0, 612.0], [1599.0, 612.0]]\n",
            "Text: hr\n",
            "Score: 0.9547375440597534\n",
            "\n",
            "Coordinates: [[2759.0, 515.0], [2993.0, 524.0], [2991.0, 587.0], [2757.0, 579.0]]\n",
            "Text: 01:50\n",
            "Score: 0.8802837133407593\n",
            "\n",
            "Coordinates: [[2441.0, 531.0], [2671.0, 519.0], [2674.0, 583.0], [2444.0, 595.0]]\n",
            "Text: 12: 30\n",
            "Score: 0.9298844933509827\n",
            "\n",
            "Coordinates: [[694.0, 549.0], [1285.0, 526.0], [1287.0, 597.0], [697.0, 619.0]]\n",
            "Text: h515716120 2\n",
            "Score: 0.9048300385475159\n",
            "\n",
            "Coordinates: [[1777.0, 541.0], [1877.0, 541.0], [1877.0, 597.0], [1777.0, 597.0]]\n",
            "Text: 2 0\n",
            "Score: 0.7774583697319031\n",
            "\n",
            "Coordinates: [[1938.0, 541.0], [2354.0, 541.0], [2354.0, 601.0], [1938.0, 601.0]]\n",
            "Text: 3000 x 150 O\n",
            "Score: 0.808901846408844\n",
            "\n",
            "Coordinates: [[241.0, 559.0], [589.0, 544.0], [592.0, 604.0], [243.0, 619.0]]\n",
            "Text: AIpli128\n",
            "Score: 0.7987229228019714\n",
            "\n",
            "Coordinates: [[1323.0, 551.0], [1498.0, 551.0], [1498.0, 615.0], [1323.0, 615.0]]\n",
            "Text: weg\n",
            "Score: 0.8623554706573486\n",
            "\n",
            "Coordinates: [[2477.0, 611.0], [2684.0, 619.0], [2681.0, 694.0], [2474.0, 685.0]]\n",
            "Text: OR130.\n",
            "Score: 0.8776564598083496\n",
            "\n",
            "Coordinates: [[707.0, 628.0], [1203.0, 644.0], [1201.0, 718.0], [705.0, 703.0]]\n",
            "Text: y5 15 H61208\n",
            "Score: 0.8308730125427246\n",
            "\n",
            "Coordinates: [[234.0, 641.0], [630.0, 628.0], [632.0, 710.0], [237.0, 722.0]]\n",
            "Text: aIpL 11 y8\n",
            "Score: 0.6945716738700867\n",
            "\n",
            "Coordinates: [[1337.0, 636.0], [1511.0, 636.0], [1511.0, 714.0], [1337.0, 714.0]]\n",
            "Text: WeG\n",
            "Score: 0.669514000415802\n",
            "\n",
            "Coordinates: [[1622.0, 636.0], [1736.0, 636.0], [1736.0, 707.0], [1622.0, 707.0]]\n",
            "Text: HK\n",
            "Score: 0.7369903326034546\n",
            "\n",
            "Coordinates: [[1793.0, 636.0], [1881.0, 636.0], [1881.0, 710.0], [1793.0, 710.0]]\n",
            "Text: RO\n",
            "Score: 0.7774237990379333\n",
            "\n",
            "Coordinates: [[1955.0, 633.0], [2341.0, 633.0], [2341.0, 703.0], [1955.0, 703.0]]\n",
            "Text: Lo0 XRsu0\n",
            "Score: 0.5441378355026245\n",
            "\n",
            "Coordinates: [[2505.0, 721.0], [2697.0, 721.0], [2697.0, 785.0], [2505.0, 785.0]]\n",
            "Text: o2'.30\n",
            "Score: 0.7747864127159119\n",
            "\n",
            "Coordinates: [[1362.0, 733.0], [1480.0, 749.0], [1473.0, 805.0], [1355.0, 790.0]]\n",
            "Text: wey\n",
            "Score: 0.7566340565681458\n",
            "\n",
            "Coordinates: [[2787.0, 725.0], [2952.0, 725.0], [2952.0, 788.0], [2787.0, 788.0]]\n",
            "Text: 31?0\n",
            "Score: 0.6260204315185547\n",
            "\n",
            "Coordinates: [[231.0, 739.0], [624.0, 731.0], [625.0, 812.0], [233.0, 821.0]]\n",
            "Text: AIpL 11 98\n",
            "Score: 0.7196260690689087\n",
            "\n",
            "Coordinates: [[705.0, 739.0], [1179.0, 739.0], [1179.0, 813.0], [705.0, 813.0]]\n",
            "Text: 45 15 7161203\n",
            "Score: 0.8842194676399231\n",
            "\n",
            "Coordinates: [[1803.0, 742.0], [1901.0, 742.0], [1901.0, 799.0], [1803.0, 799.0]]\n",
            "Text: ao\n",
            "Score: 0.8735197186470032\n",
            "\n",
            "Coordinates: [[1965.0, 735.0], [2358.0, 735.0], [2358.0, 806.0], [1965.0, 806.0]]\n",
            "Text: Xoo X HrO\n",
            "Score: 0.6180379986763\n",
            "\n"
          ]
        }
      ]
    },
    {
      "cell_type": "code",
      "source": [
        "print(len(item))"
      ],
      "metadata": {
        "colab": {
          "base_uri": "https://localhost:8080/"
        },
        "id": "RXRwfku10mXr",
        "outputId": "4cc25e94-eaea-4b69-d626-c1c34c0b18b5"
      },
      "execution_count": null,
      "outputs": [
        {
          "output_type": "stream",
          "name": "stdout",
          "text": [
            "39\n"
          ]
        }
      ]
    },
    {
      "cell_type": "code",
      "source": [
        "for item in result:\n",
        "  print(item)"
      ],
      "metadata": {
        "colab": {
          "base_uri": "https://localhost:8080/"
        },
        "id": "YO6jAJ2q0Cgp",
        "outputId": "f4d23ff7-aa6d-4c19-e2f7-a5da3c7dfefa"
      },
      "execution_count": null,
      "outputs": [
        {
          "output_type": "stream",
          "name": "stdout",
          "text": [
            "[[[[305.0, 286.0], [601.0, 283.0], [601.0, 332.0], [306.0, 336.0]], ('PLANNING SLNO', 0.9948447346687317)], [[[1612.0, 286.0], [1746.0, 286.0], [1746.0, 336.0], [1612.0, 336.0]], ('GRADE', 0.6986199617385864)], [[[1800.0, 283.0], [1891.0, 283.0], [1891.0, 336.0], [1800.0, 336.0]], ('THK', 0.990877628326416)], [[[2018.0, 286.0], [2347.0, 286.0], [2347.0, 332.0], [2018.0, 332.0]], ('SHEET DIMENSION', 0.9693458676338196)], [[[2536.0, 283.0], [2653.0, 283.0], [2653.0, 332.0], [2536.0, 332.0]], (' START', 0.9437775611877441)], [[[2838.0, 279.0], [2925.0, 279.0], [2925.0, 332.0], [2838.0, 332.0]], ('END', 0.9981291890144348)], [[[890.0, 293.0], [1115.0, 293.0], [1115.0, 332.0], [890.0, 332.0]], ('PO NUMBER', 0.9963900446891785)], [[[1370.0, 290.0], [1565.0, 290.0], [1565.0, 329.0], [1370.0, 329.0]], ('PROGRAM', 0.9901762008666992)], [[[1400.0, 339.0], [1528.0, 339.0], [1528.0, 389.0], [1400.0, 389.0]], ('NAME', 0.7447936534881592)], [[[1336.0, 424.0], [1527.0, 420.0], [1529.0, 484.0], [1337.0, 488.0]], ('iN E o1', 0.5722727179527283)], [[[1609.0, 424.0], [1726.0, 424.0], [1726.0, 488.0], [1609.0, 488.0]], ('HR', 0.8015692234039307)], [[[1777.0, 428.0], [1894.0, 428.0], [1894.0, 491.0], [1777.0, 491.0]], ('20', 0.9943041801452637)], [[[2468.0, 424.0], [2700.0, 424.0], [2700.0, 484.0], [2468.0, 484.0]], ('12: 30', 0.9187828898429871)], [[[2767.0, 421.0], [2982.0, 421.0], [2982.0, 481.0], [2767.0, 481.0]], ('01 : 50', 0.9007154703140259)], [[[711.0, 442.0], [1282.0, 424.0], [1283.0, 484.0], [713.0, 503.0]], ('45157161202', 0.996971845626831)], [[[1965.0, 435.0], [2381.0, 435.0], [2381.0, 484.0], [1965.0, 484.0]], ('3ooo x 15oO', 0.8178415894508362)], [[[251.0, 450.0], [595.0, 426.0], [599.0, 487.0], [254.0, 510.0]], ('AIPl1128', 0.865588903427124)], [[[1599.0, 520.0], [1696.0, 520.0], [1696.0, 612.0], [1599.0, 612.0]], ('hr', 0.9547375440597534)], [[[2759.0, 515.0], [2993.0, 524.0], [2991.0, 587.0], [2757.0, 579.0]], ('01:50', 0.8802837133407593)], [[[2441.0, 531.0], [2671.0, 519.0], [2674.0, 583.0], [2444.0, 595.0]], ('12: 30', 0.9298844933509827)], [[[694.0, 549.0], [1285.0, 526.0], [1287.0, 597.0], [697.0, 619.0]], ('h515716120 2', 0.9048300385475159)], [[[1777.0, 541.0], [1877.0, 541.0], [1877.0, 597.0], [1777.0, 597.0]], ('2 0', 0.7774583697319031)], [[[1938.0, 541.0], [2354.0, 541.0], [2354.0, 601.0], [1938.0, 601.0]], ('3000 x 150 O', 0.808901846408844)], [[[241.0, 559.0], [589.0, 544.0], [592.0, 604.0], [243.0, 619.0]], ('AIpli128', 0.7987229228019714)], [[[1323.0, 551.0], [1498.0, 551.0], [1498.0, 615.0], [1323.0, 615.0]], ('weg', 0.8623554706573486)], [[[2477.0, 611.0], [2684.0, 619.0], [2681.0, 694.0], [2474.0, 685.0]], ('OR130.', 0.8776564598083496)], [[[707.0, 628.0], [1203.0, 644.0], [1201.0, 718.0], [705.0, 703.0]], ('y5 15 H61208', 0.8308730125427246)], [[[234.0, 641.0], [630.0, 628.0], [632.0, 710.0], [237.0, 722.0]], ('aIpL 11 y8', 0.6945716738700867)], [[[1337.0, 636.0], [1511.0, 636.0], [1511.0, 714.0], [1337.0, 714.0]], ('WeG', 0.669514000415802)], [[[1622.0, 636.0], [1736.0, 636.0], [1736.0, 707.0], [1622.0, 707.0]], ('HK', 0.7369903326034546)], [[[1793.0, 636.0], [1881.0, 636.0], [1881.0, 710.0], [1793.0, 710.0]], ('RO', 0.7774237990379333)], [[[1955.0, 633.0], [2341.0, 633.0], [2341.0, 703.0], [1955.0, 703.0]], ('Lo0 XRsu0', 0.5441378355026245)], [[[2505.0, 721.0], [2697.0, 721.0], [2697.0, 785.0], [2505.0, 785.0]], (\"o2'.30\", 0.7747864127159119)], [[[1362.0, 733.0], [1480.0, 749.0], [1473.0, 805.0], [1355.0, 790.0]], ('wey', 0.7566340565681458)], [[[2787.0, 725.0], [2952.0, 725.0], [2952.0, 788.0], [2787.0, 788.0]], ('31?0', 0.6260204315185547)], [[[231.0, 739.0], [624.0, 731.0], [625.0, 812.0], [233.0, 821.0]], ('AIpL 11 98', 0.7196260690689087)], [[[705.0, 739.0], [1179.0, 739.0], [1179.0, 813.0], [705.0, 813.0]], ('45 15 7161203', 0.8842194676399231)], [[[1803.0, 742.0], [1901.0, 742.0], [1901.0, 799.0], [1803.0, 799.0]], ('ao', 0.8735197186470032)], [[[1965.0, 735.0], [2358.0, 735.0], [2358.0, 806.0], [1965.0, 806.0]], ('Xoo X HrO', 0.6180379986763)]]\n"
          ]
        }
      ]
    },
    {
      "cell_type": "code",
      "source": [
        "for line in result:\n",
        "  print(line)"
      ],
      "metadata": {
        "colab": {
          "base_uri": "https://localhost:8080/"
        },
        "id": "BCCTx9NkyYj0",
        "outputId": "1c05b1fc-0f8e-4eda-c686-9504f568e394"
      },
      "execution_count": null,
      "outputs": [
        {
          "output_type": "stream",
          "name": "stdout",
          "text": [
            "[[[[305.0, 286.0], [601.0, 283.0], [601.0, 332.0], [306.0, 336.0]], ('PLANNING SLNO', 0.9948447346687317)], [[[1612.0, 286.0], [1746.0, 286.0], [1746.0, 336.0], [1612.0, 336.0]], ('GRADE', 0.6986199617385864)], [[[1800.0, 283.0], [1891.0, 283.0], [1891.0, 336.0], [1800.0, 336.0]], ('THK', 0.990877628326416)], [[[2018.0, 286.0], [2347.0, 286.0], [2347.0, 332.0], [2018.0, 332.0]], ('SHEET DIMENSION', 0.9693458676338196)], [[[2536.0, 283.0], [2653.0, 283.0], [2653.0, 332.0], [2536.0, 332.0]], (' START', 0.9437775611877441)], [[[2838.0, 279.0], [2925.0, 279.0], [2925.0, 332.0], [2838.0, 332.0]], ('END', 0.9981291890144348)], [[[890.0, 293.0], [1115.0, 293.0], [1115.0, 332.0], [890.0, 332.0]], ('PO NUMBER', 0.9963900446891785)], [[[1370.0, 290.0], [1565.0, 290.0], [1565.0, 329.0], [1370.0, 329.0]], ('PROGRAM', 0.9901762008666992)], [[[1400.0, 339.0], [1528.0, 339.0], [1528.0, 389.0], [1400.0, 389.0]], ('NAME', 0.7447936534881592)], [[[1336.0, 424.0], [1527.0, 420.0], [1529.0, 484.0], [1337.0, 488.0]], ('iN E o1', 0.5722727179527283)], [[[1609.0, 424.0], [1726.0, 424.0], [1726.0, 488.0], [1609.0, 488.0]], ('HR', 0.8015692234039307)], [[[1777.0, 428.0], [1894.0, 428.0], [1894.0, 491.0], [1777.0, 491.0]], ('20', 0.9943041801452637)], [[[2468.0, 424.0], [2700.0, 424.0], [2700.0, 484.0], [2468.0, 484.0]], ('12: 30', 0.9187828898429871)], [[[2767.0, 421.0], [2982.0, 421.0], [2982.0, 481.0], [2767.0, 481.0]], ('01 : 50', 0.9007154703140259)], [[[711.0, 442.0], [1282.0, 424.0], [1283.0, 484.0], [713.0, 503.0]], ('45157161202', 0.996971845626831)], [[[1965.0, 435.0], [2381.0, 435.0], [2381.0, 484.0], [1965.0, 484.0]], ('3ooo x 15oO', 0.8178415894508362)], [[[251.0, 450.0], [595.0, 426.0], [599.0, 487.0], [254.0, 510.0]], ('AIPl1128', 0.865588903427124)], [[[1599.0, 520.0], [1696.0, 520.0], [1696.0, 612.0], [1599.0, 612.0]], ('hr', 0.9547375440597534)], [[[2759.0, 515.0], [2993.0, 524.0], [2991.0, 587.0], [2757.0, 579.0]], ('01:50', 0.8802837133407593)], [[[2441.0, 531.0], [2671.0, 519.0], [2674.0, 583.0], [2444.0, 595.0]], ('12: 30', 0.9298844933509827)], [[[694.0, 549.0], [1285.0, 526.0], [1287.0, 597.0], [697.0, 619.0]], ('h515716120 2', 0.9048300385475159)], [[[1777.0, 541.0], [1877.0, 541.0], [1877.0, 597.0], [1777.0, 597.0]], ('2 0', 0.7774583697319031)], [[[1938.0, 541.0], [2354.0, 541.0], [2354.0, 601.0], [1938.0, 601.0]], ('3000 x 150 O', 0.808901846408844)], [[[241.0, 559.0], [589.0, 544.0], [592.0, 604.0], [243.0, 619.0]], ('AIpli128', 0.7987229228019714)], [[[1323.0, 551.0], [1498.0, 551.0], [1498.0, 615.0], [1323.0, 615.0]], ('weg', 0.8623554706573486)], [[[2477.0, 611.0], [2684.0, 619.0], [2681.0, 694.0], [2474.0, 685.0]], ('OR130.', 0.8776564598083496)], [[[707.0, 628.0], [1203.0, 644.0], [1201.0, 718.0], [705.0, 703.0]], ('y5 15 H61208', 0.8308730125427246)], [[[234.0, 641.0], [630.0, 628.0], [632.0, 710.0], [237.0, 722.0]], ('aIpL 11 y8', 0.6945716738700867)], [[[1337.0, 636.0], [1511.0, 636.0], [1511.0, 714.0], [1337.0, 714.0]], ('WeG', 0.669514000415802)], [[[1622.0, 636.0], [1736.0, 636.0], [1736.0, 707.0], [1622.0, 707.0]], ('HK', 0.7369903326034546)], [[[1793.0, 636.0], [1881.0, 636.0], [1881.0, 710.0], [1793.0, 710.0]], ('RO', 0.7774237990379333)], [[[1955.0, 633.0], [2341.0, 633.0], [2341.0, 703.0], [1955.0, 703.0]], ('Lo0 XRsu0', 0.5441378355026245)], [[[2505.0, 721.0], [2697.0, 721.0], [2697.0, 785.0], [2505.0, 785.0]], (\"o2'.30\", 0.7747864127159119)], [[[1362.0, 733.0], [1480.0, 749.0], [1473.0, 805.0], [1355.0, 790.0]], ('wey', 0.7566340565681458)], [[[2787.0, 725.0], [2952.0, 725.0], [2952.0, 788.0], [2787.0, 788.0]], ('31?0', 0.6260204315185547)], [[[231.0, 739.0], [624.0, 731.0], [625.0, 812.0], [233.0, 821.0]], ('AIpL 11 98', 0.7196260690689087)], [[[705.0, 739.0], [1179.0, 739.0], [1179.0, 813.0], [705.0, 813.0]], ('45 15 7161203', 0.8842194676399231)], [[[1803.0, 742.0], [1901.0, 742.0], [1901.0, 799.0], [1803.0, 799.0]], ('ao', 0.8735197186470032)], [[[1965.0, 735.0], [2358.0, 735.0], [2358.0, 806.0], [1965.0, 806.0]], ('Xoo X HrO', 0.6180379986763)]]\n"
          ]
        }
      ]
    },
    {
      "cell_type": "code",
      "source": [
        "# draw result\n",
        "from PIL import Image, ImageDraw, ImageFont\n",
        "image = Image.open(img_path).convert('RGB')\n",
        "\n",
        "boxes = [line[0] for line in result]\n",
        "print(boxes)\n",
        "txts = [line[1][0] for line in result]\n",
        "print('texts:', txts)\n",
        "scores = [line[1][1] for line in result]\n",
        "print('scores', scores)\n",
        "\n",
        "# font = ImageFont.load_default()\n",
        "im_show = draw_ocr(image, boxes, txts, scores)\n",
        "im_show = Image.fromarray(im_show)\n",
        "im_show.save('result.jpg')"
      ],
      "metadata": {
        "colab": {
          "base_uri": "https://localhost:8080/",
          "height": 402
        },
        "id": "-L9oQ8PDuK_n",
        "outputId": "549179cc-52f8-45b4-be15-cb3fc301d422"
      },
      "execution_count": null,
      "outputs": [
        {
          "output_type": "stream",
          "name": "stdout",
          "text": [
            "[[[[305.0, 286.0], [601.0, 283.0], [601.0, 332.0], [306.0, 336.0]], ('PLANNING SLNO', 0.9948447346687317)]]\n",
            "texts: [[[1612.0, 286.0], [1746.0, 286.0], [1746.0, 336.0], [1612.0, 336.0]]]\n",
            "scores [('GRADE', 0.6986199617385864)]\n"
          ]
        },
        {
          "output_type": "error",
          "ename": "TypeError",
          "evalue": "'<' not supported between instances of 'tuple' and 'float'",
          "traceback": [
            "\u001b[0;31m---------------------------------------------------------------------------\u001b[0m",
            "\u001b[0;31mTypeError\u001b[0m                                 Traceback (most recent call last)",
            "\u001b[0;32m<ipython-input-18-80c2eb9dc026>\u001b[0m in \u001b[0;36m<cell line: 13>\u001b[0;34m()\u001b[0m\n\u001b[1;32m     11\u001b[0m \u001b[0;34m\u001b[0m\u001b[0m\n\u001b[1;32m     12\u001b[0m \u001b[0;31m# font = ImageFont.load_default()\u001b[0m\u001b[0;34m\u001b[0m\u001b[0;34m\u001b[0m\u001b[0m\n\u001b[0;32m---> 13\u001b[0;31m \u001b[0mim_show\u001b[0m \u001b[0;34m=\u001b[0m \u001b[0mdraw_ocr\u001b[0m\u001b[0;34m(\u001b[0m\u001b[0mimage\u001b[0m\u001b[0;34m,\u001b[0m \u001b[0mboxes\u001b[0m\u001b[0;34m,\u001b[0m \u001b[0mtxts\u001b[0m\u001b[0;34m,\u001b[0m \u001b[0mscores\u001b[0m\u001b[0;34m)\u001b[0m\u001b[0;34m\u001b[0m\u001b[0;34m\u001b[0m\u001b[0m\n\u001b[0m\u001b[1;32m     14\u001b[0m \u001b[0mim_show\u001b[0m \u001b[0;34m=\u001b[0m \u001b[0mImage\u001b[0m\u001b[0;34m.\u001b[0m\u001b[0mfromarray\u001b[0m\u001b[0;34m(\u001b[0m\u001b[0mim_show\u001b[0m\u001b[0;34m)\u001b[0m\u001b[0;34m\u001b[0m\u001b[0;34m\u001b[0m\u001b[0m\n\u001b[1;32m     15\u001b[0m \u001b[0mim_show\u001b[0m\u001b[0;34m.\u001b[0m\u001b[0msave\u001b[0m\u001b[0;34m(\u001b[0m\u001b[0;34m'result.jpg'\u001b[0m\u001b[0;34m)\u001b[0m\u001b[0;34m\u001b[0m\u001b[0;34m\u001b[0m\u001b[0m\n",
            "\u001b[0;32m/usr/local/lib/python3.10/dist-packages/paddleocr/tools/infer/utility.py\u001b[0m in \u001b[0;36mdraw_ocr\u001b[0;34m(image, boxes, txts, scores, drop_score, font_path)\u001b[0m\n\u001b[1;32m    410\u001b[0m     \u001b[0mbox_num\u001b[0m \u001b[0;34m=\u001b[0m \u001b[0mlen\u001b[0m\u001b[0;34m(\u001b[0m\u001b[0mboxes\u001b[0m\u001b[0;34m)\u001b[0m\u001b[0;34m\u001b[0m\u001b[0;34m\u001b[0m\u001b[0m\n\u001b[1;32m    411\u001b[0m     \u001b[0;32mfor\u001b[0m \u001b[0mi\u001b[0m \u001b[0;32min\u001b[0m \u001b[0mrange\u001b[0m\u001b[0;34m(\u001b[0m\u001b[0mbox_num\u001b[0m\u001b[0;34m)\u001b[0m\u001b[0;34m:\u001b[0m\u001b[0;34m\u001b[0m\u001b[0;34m\u001b[0m\u001b[0m\n\u001b[0;32m--> 412\u001b[0;31m         \u001b[0;32mif\u001b[0m \u001b[0mscores\u001b[0m \u001b[0;32mis\u001b[0m \u001b[0;32mnot\u001b[0m \u001b[0;32mNone\u001b[0m \u001b[0;32mand\u001b[0m \u001b[0;34m(\u001b[0m\u001b[0mscores\u001b[0m\u001b[0;34m[\u001b[0m\u001b[0mi\u001b[0m\u001b[0;34m]\u001b[0m \u001b[0;34m<\u001b[0m \u001b[0mdrop_score\u001b[0m \u001b[0;32mor\u001b[0m \u001b[0mmath\u001b[0m\u001b[0;34m.\u001b[0m\u001b[0misnan\u001b[0m\u001b[0;34m(\u001b[0m\u001b[0mscores\u001b[0m\u001b[0;34m[\u001b[0m\u001b[0mi\u001b[0m\u001b[0;34m]\u001b[0m\u001b[0;34m)\u001b[0m\u001b[0;34m)\u001b[0m\u001b[0;34m:\u001b[0m\u001b[0;34m\u001b[0m\u001b[0;34m\u001b[0m\u001b[0m\n\u001b[0m\u001b[1;32m    413\u001b[0m             \u001b[0;32mcontinue\u001b[0m\u001b[0;34m\u001b[0m\u001b[0;34m\u001b[0m\u001b[0m\n\u001b[1;32m    414\u001b[0m         \u001b[0mbox\u001b[0m \u001b[0;34m=\u001b[0m \u001b[0mnp\u001b[0m\u001b[0;34m.\u001b[0m\u001b[0mreshape\u001b[0m\u001b[0;34m(\u001b[0m\u001b[0mnp\u001b[0m\u001b[0;34m.\u001b[0m\u001b[0marray\u001b[0m\u001b[0;34m(\u001b[0m\u001b[0mboxes\u001b[0m\u001b[0;34m[\u001b[0m\u001b[0mi\u001b[0m\u001b[0;34m]\u001b[0m\u001b[0;34m)\u001b[0m\u001b[0;34m,\u001b[0m \u001b[0;34m[\u001b[0m\u001b[0;34m-\u001b[0m\u001b[0;36m1\u001b[0m\u001b[0;34m,\u001b[0m \u001b[0;36m1\u001b[0m\u001b[0;34m,\u001b[0m \u001b[0;36m2\u001b[0m\u001b[0;34m]\u001b[0m\u001b[0;34m)\u001b[0m\u001b[0;34m.\u001b[0m\u001b[0mastype\u001b[0m\u001b[0;34m(\u001b[0m\u001b[0mnp\u001b[0m\u001b[0;34m.\u001b[0m\u001b[0mint64\u001b[0m\u001b[0;34m)\u001b[0m\u001b[0;34m\u001b[0m\u001b[0;34m\u001b[0m\u001b[0m\n",
            "\u001b[0;31mTypeError\u001b[0m: '<' not supported between instances of 'tuple' and 'float'"
          ]
        }
      ]
    },
    {
      "cell_type": "markdown",
      "source": [
        "## TrOCR"
      ],
      "metadata": {
        "id": "kN9lDkpPOmIw"
      }
    },
    {
      "cell_type": "markdown",
      "source": [
        "**Model for handwritten images**"
      ],
      "metadata": {
        "id": "fpWCvzerqtvz"
      }
    },
    {
      "cell_type": "code",
      "source": [
        "img_path = '/content/img_49.jpg'\n",
        "img = cv2.imread(img_path, cv2.IMREAD_UNCHANGED)\n",
        "cv2_imshow(img)"
      ],
      "metadata": {
        "colab": {
          "base_uri": "https://localhost:8080/",
          "height": 93
        },
        "id": "GtxVaLE4O0rr",
        "outputId": "3932715f-8801-4f4e-e40a-8e9b3190f686"
      },
      "execution_count": null,
      "outputs": [
        {
          "output_type": "display_data",
          "data": {
            "text/plain": [
              "<PIL.Image.Image image mode=L size=423x76>"
            ],
            "image/png": "[encoded data removed]"
          },
          "metadata": {}
        }
      ]
    },
    {
      "cell_type": "code",
      "source": [
        "from transformers import TrOCRProcessor, VisionEncoderDecoderModel\n",
        "from PIL import Image\n",
        "import requests\n",
        "import torch\n",
        "processor = TrOCRProcessor.from_pretrained('microsoft/trocr-large-handwritten')\n",
        "model = VisionEncoderDecoderModel.from_pretrained('microsoft/trocr-large-handwritten')"
      ],
      "metadata": {
        "id": "psuLC4b4Op6s"
      },
      "execution_count": null,
      "outputs": []
    },
    {
      "cell_type": "code",
      "source": [
        "device = 'cuda' if torch.cuda.is_available() else 'cpu'\n",
        "model = model.to(device)"
      ],
      "metadata": {
        "id": "ZhmDyWxrQ5o7"
      },
      "execution_count": null,
      "outputs": []
    },
    {
      "cell_type": "code",
      "source": [
        "# load image from the IAM database\n",
        "url = '/content/img_2.jpg'\n",
        "image = Image.open(url).convert(\"RGB\")\n",
        "\n",
        "pixel_values = processor(images=image, return_tensors=\"pt\").pixel_values\n",
        "pixel_values = pixel_values.to(device)\n",
        "\n",
        "generated_ids = model.generate(pixel_values)\n",
        "generated_ids = generated_ids.cpu()\n",
        "\n",
        "generated_text = processor.batch_decode(generated_ids, skip_special_tokens=True)[0]\n",
        "print(generated_text)"
      ],
      "metadata": {
        "colab": {
          "base_uri": "https://localhost:8080/"
        },
        "id": "27LWLw61PX9q",
        "outputId": "023856dc-9f05-47ca-f049-b12af819443b"
      },
      "execution_count": null,
      "outputs": [
        {
          "output_type": "stream",
          "name": "stdout",
          "text": [
            "20 November\n"
          ]
        }
      ]
    },
    {
      "cell_type": "markdown",
      "source": [
        "**Model for printed images**"
      ],
      "metadata": {
        "id": "xPTocflGqnY_"
      }
    },
    {
      "cell_type": "code",
      "source": [
        "from transformers import TrOCRProcessor, VisionEncoderDecoderModel\n",
        "from PIL import Image\n",
        "import requests\n",
        "import torch"
      ],
      "metadata": {
        "id": "e8b2FQnArETU"
      },
      "execution_count": null,
      "outputs": []
    },
    {
      "cell_type": "code",
      "source": [
        "processor = TrOCRProcessor.from_pretrained('microsoft/trocr-large-printed')\n",
        "model = VisionEncoderDecoderModel.from_pretrained('microsoft/trocr-large-printed')"
      ],
      "metadata": {
        "id": "YuusF_CDqFoq"
      },
      "execution_count": null,
      "outputs": []
    },
    {
      "cell_type": "code",
      "source": [
        "device = 'cuda' if torch.cuda.is_available() else 'cpu'\n",
        "model = model.to(device)"
      ],
      "metadata": {
        "id": "FujFkT5hqmg7"
      },
      "execution_count": null,
      "outputs": []
    },
    {
      "cell_type": "code",
      "source": [
        "# load image from the IAM database\n",
        "url = '/content/img_9.jpg'\n",
        "image = Image.open(url).convert(\"RGB\")\n",
        "\n",
        "pixel_values = processor(images=image, return_tensors=\"pt\").pixel_values\n",
        "pixel_values = pixel_values.to(device)\n",
        "\n",
        "generated_ids = model.generate(pixel_values)\n",
        "generated_ids = generated_ids.cpu()\n",
        "\n",
        "generated_text = processor.batch_decode(generated_ids, skip_special_tokens=True)[0]\n",
        "print(generated_text)"
      ],
      "metadata": {
        "colab": {
          "base_uri": "https://localhost:8080/"
        },
        "id": "kUAxKN-7qLDJ",
        "outputId": "71fce144-ad52-464c-e6d7-28b48cd83f18"
      },
      "execution_count": null,
      "outputs": [
        {
          "output_type": "stream",
          "name": "stdout",
          "text": [
            "NAME\n"
          ]
        }
      ]
    }
  ]
}